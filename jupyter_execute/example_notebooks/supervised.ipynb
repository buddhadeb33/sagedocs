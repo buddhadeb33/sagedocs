{
 "cells": [
  {
   "cell_type": "code",
   "execution_count": 1,
   "id": "4408dd33",
   "metadata": {
    "execution": {
     "iopub.execute_input": "2024-12-25T05:49:22.477981Z",
     "iopub.status.busy": "2024-12-25T05:49:22.476832Z",
     "iopub.status.idle": "2024-12-25T05:49:22.480546Z",
     "shell.execute_reply": "2024-12-25T05:49:22.480965Z"
    }
   },
   "outputs": [
    {
     "name": "stdout",
     "output_type": "stream",
     "text": [
      "Hello, Jupyter_Buddha!\n"
     ]
    }
   ],
   "source": [
    "# Example Python Code Cell\n",
    "print(\"Hello, Jupyter_Buddha!\")\n",
    "\n",
    "# Add Markdown cells as plain text"
   ]
  }
 ],
 "metadata": {
  "kernelspec": {
   "display_name": "Python 3 (ipykernel)",
   "language": "python",
   "name": "python3"
  },
  "language_info": {
   "codemirror_mode": {
    "name": "ipython",
    "version": 3
   },
   "file_extension": ".py",
   "mimetype": "text/x-python",
   "name": "python",
   "nbconvert_exporter": "python",
   "pygments_lexer": "ipython3",
   "version": "3.8.12"
  }
 },
 "nbformat": 4,
 "nbformat_minor": 5
}